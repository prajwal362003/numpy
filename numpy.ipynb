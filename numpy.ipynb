{
 "cells": [
  {
   "cell_type": "code",
   "execution_count": 2,
   "id": "e5926bd1",
   "metadata": {},
   "outputs": [],
   "source": [
    "import numpy as np"
   ]
  },
  {
   "cell_type": "code",
   "execution_count": 4,
   "id": "5f4a3e98",
   "metadata": {},
   "outputs": [
    {
     "name": "stdout",
     "output_type": "stream",
     "text": [
      "The 1D array is as given  [1 2 3 4]\n",
      "<class 'numpy.ndarray'>\n",
      "(4,)\n"
     ]
    }
   ],
   "source": [
    "# Creating a 1D Array\n",
    "\n",
    "arr = np.array([1,2,3,4])\n",
    "print(\"The 1D array is as given \",arr)\n",
    "print(type(arr))\n",
    "print(arr.shape)\n"
   ]
  },
  {
   "cell_type": "code",
   "execution_count": 6,
   "id": "38485fc5",
   "metadata": {},
   "outputs": [
    {
     "name": "stdout",
     "output_type": "stream",
     "text": [
      "[[1 2 3 4]\n",
      " [5 6 7 8]]\n",
      "(2, 4)\n"
     ]
    }
   ],
   "source": [
    "# Dimensions of a array\n",
    "\n",
    "# 2 rows,4 cols\n",
    "arr2 = np.array([[1,2,3,4],[5,6,7,8]])\n",
    "print(arr2)\n",
    "print(arr2.shape)"
   ]
  },
  {
   "cell_type": "code",
   "execution_count": 10,
   "id": "52a5a2f1",
   "metadata": {},
   "outputs": [
    {
     "data": {
      "text/plain": [
       "array([[0],\n",
       "       [2],\n",
       "       [4],\n",
       "       [6],\n",
       "       [8]])"
      ]
     },
     "execution_count": 10,
     "metadata": {},
     "output_type": "execute_result"
    }
   ],
   "source": [
    "# Inbuilt array functions\n",
    "\n",
    "# Get the numbers between 0 and 10 with 2 steps diff\n",
    "# then reshape to 5 rows and 1 col\n",
    "np.arange(0,10,2).reshape(5,1)"
   ]
  },
  {
   "cell_type": "code",
   "execution_count": null,
   "id": "bb9551d6",
   "metadata": {},
   "outputs": [
    {
     "data": {
      "text/plain": [
       "array([[1., 1., 1., 1.],\n",
       "       [1., 1., 1., 1.],\n",
       "       [1., 1., 1., 1.]])"
      ]
     },
     "execution_count": 11,
     "metadata": {},
     "output_type": "execute_result"
    }
   ],
   "source": [
    "# Generate the array of 3 rows and 1 col\n",
    "np.ones((3,4))"
   ]
  },
  {
   "cell_type": "code",
   "execution_count": null,
   "id": "dc85bbab",
   "metadata": {},
   "outputs": [
    {
     "data": {
      "text/plain": [
       "array([[1., 0., 0.],\n",
       "       [0., 1., 0.],\n",
       "       [0., 0., 1.]])"
      ]
     },
     "execution_count": 12,
     "metadata": {},
     "output_type": "execute_result"
    }
   ],
   "source": [
    "# Identity Matrix of size 3\n",
    "np.eye(3)"
   ]
  },
  {
   "cell_type": "code",
   "execution_count": 14,
   "id": "1f0a3b0c",
   "metadata": {},
   "outputs": [
    {
     "name": "stdout",
     "output_type": "stream",
     "text": [
      "Array:\n",
      " [[1 2 3]\n",
      " [4 5 6]]\n",
      "Shape: (2, 3)\n",
      "Number of dimensions: 2\n",
      "Size (number of elements): 6\n",
      "Data type: int64\n",
      "Item size (in bytes): 8\n"
     ]
    }
   ],
   "source": [
    "# Attributrs of a numpy array\n",
    "\n",
    "arr3 = np.array([[1,2,3],[4,5,6]])\n",
    "\n",
    "print(\"Array:\\n\",arr3)\n",
    "print(\"Shape:\",arr3.shape)\n",
    "print(\"Number of dimensions:\",arr3.ndim)\n",
    "print(\"Size (number of elements):\",arr3.size)\n",
    "print(\"Data type:\",arr.dtype)\n",
    "print(\"Item size (in bytes):\",arr.itemsize)\n",
    "\n"
   ]
  },
  {
   "cell_type": "code",
   "execution_count": 16,
   "id": "e19551d7",
   "metadata": {},
   "outputs": [
    {
     "name": "stdout",
     "output_type": "stream",
     "text": [
      "Addition:  [11 22 33 44 55]\n",
      "Subtraction:  [ 9 18 27 36 45]\n",
      "Multiplication:  [ 10  40  90 160 250]\n",
      "Division:  [0.1 0.1 0.1 0.1 0.1]\n"
     ]
    }
   ],
   "source": [
    "# Vectorized Operations of Numpy\n",
    "\n",
    "arr4 = np.array([1,2,3,4,5])\n",
    "arr5 = np.array([10,20,30,40,50])\n",
    "\n",
    "# Element wise addition\n",
    "print(\"Addition: \",arr4+arr5)\n",
    "\n",
    "# Element wise Substraction\n",
    "print(\"Subtraction: \",arr5-arr4)\n",
    "\n",
    "# Element wise Multiplication\n",
    "print(\"Multiplication: \",arr4*arr5)\n",
    "\n",
    "# Element wise Division\n",
    "print(\"Division: \",arr4/arr5)\n",
    "\n",
    "\n",
    "\n"
   ]
  },
  {
   "cell_type": "code",
   "execution_count": 18,
   "id": "6b0557b8",
   "metadata": {},
   "outputs": [
    {
     "name": "stdout",
     "output_type": "stream",
     "text": [
      "[1.41421356 1.73205081 2.         2.23606798 2.44948974]\n",
      "[  7.3890561   20.08553692  54.59815003 148.4131591  403.42879349]\n",
      "[ 0.90929743  0.14112001 -0.7568025  -0.95892427 -0.2794155 ]\n",
      "[0.69314718 1.09861229 1.38629436 1.60943791 1.79175947]\n"
     ]
    }
   ],
   "source": [
    "# Universal Functions\n",
    "\n",
    "arr6 = np.array([2,3,4,5,6])\n",
    "\n",
    "# Square Root\n",
    "print(np.sqrt(arr6))\n",
    "\n",
    "# Exponential \n",
    "print(np.exp(arr6))\n",
    "\n",
    "# Sine\n",
    "print(np.sin(arr6))\n",
    "\n",
    "# Natural Log\n",
    "print(np.log(arr6))"
   ]
  },
  {
   "cell_type": "code",
   "execution_count": 32,
   "id": "65eaa65d",
   "metadata": {},
   "outputs": [
    {
     "name": "stdout",
     "output_type": "stream",
     "text": [
      "[[ 1  2  3  4]\n",
      " [ 5  6  7  8]\n",
      " [ 9 10 11 12]]\n",
      "2\n",
      "[[ 7  8]\n",
      " [11 12]]\n",
      "[[3 4]\n",
      " [7 8]]\n",
      "[[ 6  7]\n",
      " [10 11]]\n"
     ]
    }
   ],
   "source": [
    "# Array Slicing & Indexing\n",
    "\n",
    "arr7 = np.array([[1,2,3,4],[5,6,7,8],[9,10,11,12]])\n",
    "print(arr7)\n",
    "\n",
    "# Accessing 1 which is present in first row and first col\n",
    "print(arr7[0][1])\n",
    "\n",
    "# Fetching the numbers 7,8,,11,12\n",
    "print(arr7[1:,2:])\n",
    "\n",
    "# Fetching the numbers 3,4,7,8\n",
    "print(arr7[0:2,2:])\n",
    "\n",
    "# Fetching the numbers 6,7,10,11\n",
    "print(arr7[1:,1:3])\n",
    "\n"
   ]
  },
  {
   "cell_type": "code",
   "execution_count": null,
   "id": "63de4475",
   "metadata": {},
   "outputs": [
    {
     "name": "stdout",
     "output_type": "stream",
     "text": [
      "[[100   2   3   4]\n",
      " [100 100 100 100]\n",
      " [100 100 100 100]]\n",
      "\n",
      "\n",
      "[[100   2   3   4]\n",
      " [100 100 100 100]\n",
      " [100 100 100 100]]\n"
     ]
    }
   ],
   "source": [
    "# Modify Array Elements\n",
    "\n",
    "arr7[0,0] = 100\n",
    "print(arr7)\n",
    "\n",
    "print(\"\\n\")\n",
    "\n",
    "# Replace all the elements from second row as 100\n",
    "arr7[1:] = 100\n",
    "print(arr7)"
   ]
  },
  {
   "cell_type": "code",
   "execution_count": 36,
   "id": "2d06ef39",
   "metadata": {},
   "outputs": [
    {
     "name": "stdout",
     "output_type": "stream",
     "text": [
      "The Normalized Data:  [-1.41421356 -0.70710678  0.          0.70710678  1.41421356]\n"
     ]
    }
   ],
   "source": [
    "# Statistical Concepts --> Normalization\n",
    "# Means having a mean of 0 and S.D of 1\n",
    "\n",
    "data = np.array([1,2,3,4,5])\n",
    "\n",
    "# Calculate the mean and std deviation\n",
    "mean = np.mean(data)\n",
    "std_dev = np.std(data)\n",
    "\n",
    "# Normalize the data\n",
    "normalized_data = (data - mean)/std_dev\n",
    "print(\"The Normalized Data: \",normalized_data)\n",
    "\n"
   ]
  },
  {
   "cell_type": "code",
   "execution_count": 39,
   "id": "860aa200",
   "metadata": {},
   "outputs": [
    {
     "name": "stdout",
     "output_type": "stream",
     "text": [
      "Mean:  5.5\n",
      "Median:  5.5\n",
      "Standard Deviation:  2.8722813232690143\n",
      "Variance:  8.25\n"
     ]
    }
   ],
   "source": [
    "data2 = np.array([1,2,3,4,5,6,7,8,9,10])\n",
    "\n",
    "# Mean\n",
    "mean = np.mean(data2)\n",
    "print(\"Mean: \",mean)\n",
    "\n",
    "# Median\n",
    "median = np.median(data2)\n",
    "print(\"Median: \",median)\n",
    "\n",
    "# Std Deviation\n",
    "std_dev2 = np.std(data2)\n",
    "print(\"Standard Deviation: \",std_dev2)\n",
    "\n",
    "# Variance\n",
    "variance = np.var(data2)\n",
    "print(\"Variance: \",variance)"
   ]
  },
  {
   "cell_type": "code",
   "execution_count": 42,
   "id": "daf3088e",
   "metadata": {},
   "outputs": [
    {
     "name": "stdout",
     "output_type": "stream",
     "text": [
      "[ 6  7  8  9 10]\n",
      "[5 6 7 8]\n"
     ]
    }
   ],
   "source": [
    "# Logical Operations\n",
    "data3 = np.array([1,2,3,4,5,6,7,8,9,10])\n",
    "\n",
    "# Fetch the data greater than 5\n",
    "print(data3[data3 > 5])\n",
    "\n",
    "# Fetch the data greater than 5 and data less than 8\n",
    "print(data3[(data3 >= 5) & (data3 <= 8)])"
   ]
  }
 ],
 "metadata": {
  "kernelspec": {
   "display_name": "Python 3",
   "language": "python",
   "name": "python3"
  },
  "language_info": {
   "codemirror_mode": {
    "name": "ipython",
    "version": 3
   },
   "file_extension": ".py",
   "mimetype": "text/x-python",
   "name": "python",
   "nbconvert_exporter": "python",
   "pygments_lexer": "ipython3",
   "version": "3.10.0"
  }
 },
 "nbformat": 4,
 "nbformat_minor": 5
}
